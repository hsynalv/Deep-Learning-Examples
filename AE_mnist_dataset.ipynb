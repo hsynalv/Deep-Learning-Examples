{
 "cells": [
  {
   "cell_type": "code",
   "execution_count": 1,
   "id": "initial_id",
   "metadata": {
    "collapsed": true,
    "ExecuteTime": {
     "end_time": "2024-02-22T08:31:45.710003100Z",
     "start_time": "2024-02-22T08:31:39.188764300Z"
    }
   },
   "outputs": [
    {
     "name": "stdout",
     "output_type": "stream",
     "text": [
      "WARNING:tensorflow:From C:\\Users\\alavh\\AppData\\Roaming\\Python\\Python310\\site-packages\\keras\\src\\losses.py:2976: The name tf.losses.sparse_softmax_cross_entropy is deprecated. Please use tf.compat.v1.losses.sparse_softmax_cross_entropy instead.\n"
     ]
    }
   ],
   "source": [
    "import numpy as np\n",
    "import matplotlib.pyplot as plt\n",
    "import seaborn as sns\n",
    "import pandas as pd\n",
    "from tensorflow.keras.datasets import mnist"
   ]
  },
  {
   "cell_type": "code",
   "outputs": [],
   "source": [
    "(trainX, trainY), (testX, testY) = mnist.load_data()"
   ],
   "metadata": {
    "collapsed": false,
    "ExecuteTime": {
     "end_time": "2024-02-22T08:35:15.228109900Z",
     "start_time": "2024-02-22T08:35:14.972833200Z"
    }
   },
   "id": "804331765ba27ab",
   "execution_count": 2
  },
  {
   "cell_type": "code",
   "outputs": [
    {
     "name": "stdout",
     "output_type": "stream",
     "text": [
      "Training data shapes: X=(60000, 28, 28), Y=(60000,)\n",
      "Testing data shapes: X=(10000, 28, 28), Y=(10000,)\n"
     ]
    }
   ],
   "source": [
    "print('Training data shapes: X=%s, Y=%s' % (trainX.shape, trainY.shape))\n",
    "print('Testing data shapes: X=%s, Y=%s' % (testX.shape, testY.shape))"
   ],
   "metadata": {
    "collapsed": false,
    "ExecuteTime": {
     "end_time": "2024-02-22T08:36:38.992544300Z",
     "start_time": "2024-02-22T08:36:38.956636700Z"
    }
   },
   "id": "f9e1a3e962481798",
   "execution_count": 3
  },
  {
   "cell_type": "code",
   "outputs": [
    {
     "data": {
      "text/plain": "<Figure size 640x480 with 5 Axes>",
      "image/png": "[encoded data removed]"
     },
     "metadata": {},
     "output_type": "display_data"
    }
   ],
   "source": [
    "for j in range(5):\n",
    "    i = np.random.randint(0,1000)\n",
    "    plt.subplot(550 + 1 + j)\n",
    "    plt.imshow(trainX[i], cmap='gray')\n",
    "    plt.title(trainY[i])\n",
    "plt.show()"
   ],
   "metadata": {
    "collapsed": false,
    "ExecuteTime": {
     "end_time": "2024-02-22T08:38:22.433127800Z",
     "start_time": "2024-02-22T08:38:21.874957300Z"
    }
   },
   "id": "f8abfe547bb5d897",
   "execution_count": 4
  },
  {
   "cell_type": "code",
   "outputs": [
    {
     "name": "stdout",
     "output_type": "stream",
     "text": [
      "(60000, 784) (10000, 784)\n"
     ]
    }
   ],
   "source": [
    "# Normalizasyon ve boyut azaltma\n",
    "\n",
    "trainX = trainX / 255\n",
    "testX = testX / 255\n",
    "train_data = np.reshape(trainX, (60000, 28*28))\n",
    "test_data = np.reshape(testX, (10000,28*28))\n",
    "print( train_data.shape, test_data.shape )"
   ],
   "metadata": {
    "collapsed": false,
    "ExecuteTime": {
     "end_time": "2024-02-22T08:49:27.135331200Z",
     "start_time": "2024-02-22T08:49:27.002404Z"
    }
   },
   "id": "aaccf262c1c7a2f7",
   "execution_count": 5
  },
  {
   "cell_type": "code",
   "outputs": [
    {
     "name": "stdout",
     "output_type": "stream",
     "text": [
      "WARNING:tensorflow:From C:\\Users\\alavh\\AppData\\Roaming\\Python\\Python310\\site-packages\\keras\\src\\backend.py:1398: The name tf.executing_eagerly_outside_functions is deprecated. Please use tf.compat.v1.executing_eagerly_outside_functions instead.\n"
     ]
    }
   ],
   "source": [
    "import tensorflow\n",
    "input_data = tensorflow.keras.layers.Input(shape=(784))\n",
    "encoder = tensorflow.keras.layers.Dense(100)(input_data)\n",
    "encoder = tensorflow.keras.layers.Activation('relu')(encoder)\n",
    "encoder = tensorflow.keras.layers.Dense(50)(encoder)\n",
    "encoder = tensorflow.keras.layers.Activation('relu')(encoder)\n",
    "encoder = tensorflow.keras.layers.Dense(25)(encoder)\n",
    "encoder = tensorflow.keras.layers.Activation('relu')(encoder)\n",
    "encoded = tensorflow.keras.layers.Dense(2)(encoder)"
   ],
   "metadata": {
    "collapsed": false,
    "ExecuteTime": {
     "end_time": "2024-02-22T08:58:23.517527600Z",
     "start_time": "2024-02-22T08:58:23.279153100Z"
    }
   },
   "id": "13220eeb7f140e85",
   "execution_count": 6
  },
  {
   "cell_type": "code",
   "outputs": [],
   "source": [
    "decoder = tensorflow.keras.layers.Dense(25)(encoded)\n",
    "decoder = tensorflow.keras.layers.Activation('relu')(decoder)\n",
    "decoder = tensorflow.keras.layers.Dense(50)(decoder)\n",
    "decoder = tensorflow.keras.layers.Activation('relu')(decoder)\n",
    "decoder = tensorflow.keras.layers.Dense(100)(decoder)\n",
    "decoder = tensorflow.keras.layers.Activation('relu')(decoder)\n",
    "decoded = tensorflow.keras.layers.Dense(784)(decoder)"
   ],
   "metadata": {
    "collapsed": false,
    "ExecuteTime": {
     "end_time": "2024-02-22T09:05:49.498533400Z",
     "start_time": "2024-02-22T09:05:49.442518500Z"
    }
   },
   "id": "e7efa6a875f74bc0",
   "execution_count": 7
  },
  {
   "cell_type": "code",
   "outputs": [
    {
     "name": "stdout",
     "output_type": "stream",
     "text": [
      "WARNING:tensorflow:From C:\\Users\\alavh\\AppData\\Roaming\\Python\\Python310\\site-packages\\keras\\src\\optimizers\\__init__.py:309: The name tf.train.Optimizer is deprecated. Please use tf.compat.v1.train.Optimizer instead.\n",
      "\n",
      "Model: \"model\"\n",
      "_________________________________________________________________\n",
      " Layer (type)                Output Shape              Param #   \n",
      "=================================================================\n",
      " input_1 (InputLayer)        [(None, 784)]             0         \n",
      "                                                                 \n",
      " dense (Dense)               (None, 100)               78500     \n",
      "                                                                 \n",
      " activation (Activation)     (None, 100)               0         \n",
      "                                                                 \n",
      " dense_1 (Dense)             (None, 50)                5050      \n",
      "                                                                 \n",
      " activation_1 (Activation)   (None, 50)                0         \n",
      "                                                                 \n",
      " dense_2 (Dense)             (None, 25)                1275      \n",
      "                                                                 \n",
      " activation_2 (Activation)   (None, 25)                0         \n",
      "                                                                 \n",
      " dense_3 (Dense)             (None, 2)                 52        \n",
      "                                                                 \n",
      " dense_4 (Dense)             (None, 25)                75        \n",
      "                                                                 \n",
      " activation_3 (Activation)   (None, 25)                0         \n",
      "                                                                 \n",
      " dense_5 (Dense)             (None, 50)                1300      \n",
      "                                                                 \n",
      " activation_4 (Activation)   (None, 50)                0         \n",
      "                                                                 \n",
      " dense_6 (Dense)             (None, 100)               5100      \n",
      "                                                                 \n",
      " activation_5 (Activation)   (None, 100)               0         \n",
      "                                                                 \n",
      " dense_7 (Dense)             (None, 784)               79184     \n",
      "                                                                 \n",
      "=================================================================\n",
      "Total params: 170536 (666.16 KB)\n",
      "Trainable params: 170536 (666.16 KB)\n",
      "Non-trainable params: 0 (0.00 Byte)\n",
      "_________________________________________________________________\n"
     ]
    }
   ],
   "source": [
    "autoencoder = tensorflow.keras.models.Model(inputs= input_data, outputs= decoded)\n",
    "autoencoder.compile(loss='mse', optimizer='adam')\n",
    "autoencoder.summary()"
   ],
   "metadata": {
    "collapsed": false,
    "ExecuteTime": {
     "end_time": "2024-02-22T09:09:46.430605Z",
     "start_time": "2024-02-22T09:09:46.312928100Z"
    }
   },
   "id": "183848acbe843e62",
   "execution_count": 8
  },
  {
   "cell_type": "code",
   "outputs": [
    {
     "name": "stdout",
     "output_type": "stream",
     "text": [
      "Epoch 1/10\n",
      "WARNING:tensorflow:From C:\\Users\\alavh\\AppData\\Roaming\\Python\\Python310\\site-packages\\keras\\src\\utils\\tf_utils.py:492: The name tf.ragged.RaggedTensorValue is deprecated. Please use tf.compat.v1.ragged.RaggedTensorValue instead.\n",
      "938/938 [==============================] - 4s 3ms/step - loss: 0.0540 - val_loss: 0.0484\n",
      "Epoch 2/10\n",
      "938/938 [==============================] - 3s 3ms/step - loss: 0.0469 - val_loss: 0.0455\n",
      "Epoch 3/10\n",
      "938/938 [==============================] - 3s 3ms/step - loss: 0.0447 - val_loss: 0.0437\n",
      "Epoch 4/10\n",
      "938/938 [==============================] - 3s 3ms/step - loss: 0.0435 - val_loss: 0.0430\n",
      "Epoch 5/10\n",
      "938/938 [==============================] - 3s 3ms/step - loss: 0.0427 - val_loss: 0.0421\n",
      "Epoch 6/10\n",
      "938/938 [==============================] - 3s 3ms/step - loss: 0.0415 - val_loss: 0.0409\n",
      "Epoch 7/10\n",
      "938/938 [==============================] - 3s 4ms/step - loss: 0.0408 - val_loss: 0.0407\n",
      "Epoch 8/10\n",
      "938/938 [==============================] - 3s 3ms/step - loss: 0.0405 - val_loss: 0.0404\n",
      "Epoch 9/10\n",
      "938/938 [==============================] - 4s 4ms/step - loss: 0.0400 - val_loss: 0.0398\n",
      "Epoch 10/10\n",
      "938/938 [==============================] - 5s 5ms/step - loss: 0.0396 - val_loss: 0.0391\n"
     ]
    },
    {
     "data": {
      "text/plain": "<keras.src.callbacks.History at 0x2b52c5fd5a0>"
     },
     "execution_count": 9,
     "metadata": {},
     "output_type": "execute_result"
    }
   ],
   "source": [
    "autoencoder.fit(train_data, train_data, epochs=10, batch_size=64, validation_data=(test_data, test_data))"
   ],
   "metadata": {
    "collapsed": false,
    "ExecuteTime": {
     "end_time": "2024-02-22T09:18:02.268291600Z",
     "start_time": "2024-02-22T09:17:27.482826Z"
    }
   },
   "id": "9f32a7c6cf1be8db",
   "execution_count": 9
  },
  {
   "cell_type": "code",
   "outputs": [
    {
     "data": {
      "text/plain": "<Figure size 640x480 with 5 Axes>",
      "image/png": "[encoded data removed]"
     },
     "metadata": {},
     "output_type": "display_data"
    },
    {
     "name": "stdout",
     "output_type": "stream",
     "text": [
      "1/1 [==============================] - 0s 24ms/step\n",
      "1/1 [==============================] - 0s 24ms/step\n",
      "1/1 [==============================] - 0s 18ms/step\n",
      "1/1 [==============================] - 0s 20ms/step\n",
      "1/1 [==============================] - 0s 22ms/step\n"
     ]
    },
    {
     "data": {
      "text/plain": "<Figure size 640x480 with 5 Axes>",
      "image/png": "[encoded data removed]"
     },
     "metadata": {},
     "output_type": "display_data"
    }
   ],
   "source": [
    "# Gerçek resimler\n",
    "for i in range(5):\n",
    "    plt.subplot(550 + 1 + i)\n",
    "    plt.imshow(testX[i], cmap='gray')\n",
    "plt.show()\n",
    "\n",
    "#yeniden oluşturulmuş resimler\n",
    "\n",
    "for i in range(5):\n",
    "    plt.subplot(550 + 1 + i)\n",
    "    output = autoencoder.predict(np.array([test_data[i]]))\n",
    "    op_image = np.reshape(output[0]*255, (28,28))\n",
    "    plt.imshow(op_image, cmap='gray')\n",
    "plt.show()"
   ],
   "metadata": {
    "collapsed": false,
    "ExecuteTime": {
     "end_time": "2024-02-22T09:29:09.115560400Z",
     "start_time": "2024-02-22T09:29:08.043769200Z"
    }
   },
   "id": "6ecc42dc3136968",
   "execution_count": 11
  },
  {
   "cell_type": "code",
   "outputs": [],
   "source": [],
   "metadata": {
    "collapsed": false
   },
   "id": "49afe55fb9d5569b"
  }
 ],
 "metadata": {
  "kernelspec": {
   "display_name": "Python 3",
   "language": "python",
   "name": "python3"
  },
  "language_info": {
   "codemirror_mode": {
    "name": "ipython",
    "version": 2
   },
   "file_extension": ".py",
   "mimetype": "text/x-python",
   "name": "python",
   "nbconvert_exporter": "python",
   "pygments_lexer": "ipython2",
   "version": "2.7.6"
  }
 },
 "nbformat": 4,
 "nbformat_minor": 5
}
